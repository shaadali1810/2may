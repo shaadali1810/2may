{
 "cells": [
  {
   "cell_type": "code",
   "execution_count": 1,
   "id": "3675e485-1a50-4ff6-8346-4c5efe1d07fb",
   "metadata": {},
   "outputs": [],
   "source": [
    "#1Anomaly detection is the identification of rare events, items, or observations which are suspicious because they differ significantly from standard behaviors or patterns. Anomalies in data are also called standard deviations, outliers, noise, novelties, and exceptions."
   ]
  },
  {
   "cell_type": "code",
   "execution_count": 2,
   "id": "037ee2e3-c856-4e62-8881-8b4b37c37417",
   "metadata": {},
   "outputs": [],
   "source": [
    "#2 Anomaly detection faces several challenges. Firstly, existing methods struggle to handle scenarios where the instances are systems with unobservable characteristics. Secondly, model performance decay over time due to changes in data patterns in time series data is a significant challenge."
   ]
  },
  {
   "cell_type": "code",
   "execution_count": 3,
   "id": "4041f5a9-b06d-4e87-8a7f-d255b6c079c4",
   "metadata": {},
   "outputs": [],
   "source": [
    "#3Unsupervised anomaly detection, however, works without labeled data, identifying anomalies based solely on deviations from normal patterns within the dataset. Supervised anomaly detection involves identifying abnormal data behavior using labeled examples."
   ]
  },
  {
   "cell_type": "code",
   "execution_count": 4,
   "id": "afa30f3f-3c68-44a0-8ed2-6841af7a480e",
   "metadata": {},
   "outputs": [],
   "source": [
    "#4However, these types of micro clusters can often be identified more readily by a cluster analysis algorithm. There are three main classes of anomaly detection techniques: unsupervised, semi-supervised, and supervised."
   ]
  },
  {
   "cell_type": "code",
   "execution_count": 5,
   "id": "11424e39-e7b4-47aa-a9ec-4971004a7465",
   "metadata": {},
   "outputs": [],
   "source": [
    "#5What is distance-based method of anomaly detection?\n",
    "#A Density-based algorithm for outlier detection | by Daniel ...\n",
    "#Distance-based outlier detection method consults the neighbourhood of an object, which is defined by a given radius. An object is then considered an outlier if its neighborhood does not have enough other points. A distance the threshold that can be defined as a reasonable neighbourhood of the object."
   ]
  },
  {
   "cell_type": "code",
   "execution_count": 6,
   "id": "10a106ea-1fb5-452c-a35f-b7d728f52f54",
   "metadata": {},
   "outputs": [],
   "source": [
    "#6The Local Outlier Factor (LOF) algorithm is an unsupervised anomaly detection method which computes the local density deviation of a given data point with respect to its neighbors. It considers as outliers the samples that have a substantially lower density than their neighbors."
   ]
  },
  {
   "cell_type": "code",
   "execution_count": 7,
   "id": "20361635-05cd-4d02-ac37-1e2647fb7228",
   "metadata": {},
   "outputs": [],
   "source": [
    "#7What is the objective function of Isolation Forest?\n",
    "#Isolation forest - Wikipedia\n",
    "#Isolation Forest detects anomalies using binary trees. The algorithm has a linear time complexity and a low memory requirement, which works well with high-volume data. In essence, the algorithm relies upon the characteristics of anomalies, i.e., being few and different, in order to detect anomalies."
   ]
  },
  {
   "cell_type": "code",
   "execution_count": null,
   "id": "c1bbf63b-e283-4646-88d6-9181adcc1169",
   "metadata": {},
   "outputs": [],
   "source": [
    "#8"
   ]
  }
 ],
 "metadata": {
  "kernelspec": {
   "display_name": "Python 3 (ipykernel)",
   "language": "python",
   "name": "python3"
  },
  "language_info": {
   "codemirror_mode": {
    "name": "ipython",
    "version": 3
   },
   "file_extension": ".py",
   "mimetype": "text/x-python",
   "name": "python",
   "nbconvert_exporter": "python",
   "pygments_lexer": "ipython3",
   "version": "3.10.8"
  }
 },
 "nbformat": 4,
 "nbformat_minor": 5
}
